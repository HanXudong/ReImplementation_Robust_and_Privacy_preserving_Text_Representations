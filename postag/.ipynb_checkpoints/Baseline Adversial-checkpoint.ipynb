{
 "cells": [
  {
   "cell_type": "code",
   "execution_count": 1,
   "metadata": {},
   "outputs": [],
   "source": [
    "from sklearn.metrics import accuracy_score\n",
    "from sklearn.metrics import roc_auc_score\n",
    "from sklearn.metrics import average_precision_score\n",
    "from sklearn.metrics import f1_score\n",
    "import numpy as np\n",
    "\n",
    "import torch\n",
    "import torch.nn as nn\n",
    "import torch.optim as optim\n",
    "import torch.nn.functional as F\n",
    "import torch.autograd as autograd\n",
    "from torch.nn.utils.rnn import pack_padded_sequence, pad_packed_sequence\n",
    "\n",
    "import torchtext\n",
    "from torchtext.data import get_tokenizer\n",
    "from torchtext import data, datasets\n",
    "\n",
    "import json\n",
    "import random\n",
    "\n",
    "from tqdm import tqdm, trange\n",
    "\n",
    "from POS_utils import *"
   ]
  },
  {
   "cell_type": "code",
   "execution_count": 2,
   "metadata": {},
   "outputs": [],
   "source": [
    "# Dataset path\n",
    "TrustPilot_processed_dataset_path = \"..//dataset//TrustPilot_processed//\"\n",
    "\n",
    "# Device\n",
    "device = torch.device('cuda' if torch.cuda.is_available() else 'cpu')\n",
    "\n",
    "mode_save_path = 'Models\\\\'\n",
    "model_name = 'baseline_Adversial_{}.pt'"
   ]
  },
  {
   "cell_type": "code",
   "execution_count": 3,
   "metadata": {},
   "outputs": [],
   "source": [
    "####################################\n",
    "#         Hyper-parameters         #\n",
    "####################################\n",
    "BATCH_SIZE = 64\n",
    "LEARNING_RATE = 1e-3\n",
    "EMBEDDING_DIM = 100\n",
    "HIDDEN_DIM = 256\n",
    "N_LAYERS = 2\n",
    "BIDIRECTIONAL = True\n",
    "DROUPOUT = 0.5\n",
    "NUM_EPOCHS = 100\n",
    "LAMBDA = 1e-2"
   ]
  },
  {
   "cell_type": "code",
   "execution_count": 4,
   "metadata": {},
   "outputs": [],
   "source": [
    "####################################\n",
    "#          Preparing Data          #\n",
    "####################################\n",
    "SEED = 960925\n",
    "\n",
    "\n",
    "# 1. data.Field()\n",
    "# TEXT = data.Field(include_lengths=True, pad_token='<pad>', unk_token='<unk>')\n",
    "TEXT = data.Field(lower = True)\n",
    "TAG_LABEL = data.Field(unk_token = None)\n",
    "AGE_LABEL = data.LabelField()\n",
    "GENDER_LABEL = data.LabelField()"
   ]
  },
  {
   "cell_type": "code",
   "execution_count": 5,
   "metadata": {},
   "outputs": [],
   "source": [
    "fields = {'text':('text', TEXT), \n",
    "          'tag_label':('tag_label', TAG_LABEL),\n",
    "          'age_label':('age_label', AGE_LABEL),\n",
    "          'gender_label':('gender_label', GENDER_LABEL)}"
   ]
  },
  {
   "cell_type": "code",
   "execution_count": 6,
   "metadata": {},
   "outputs": [],
   "source": [
    "# train, val, test\n",
    "# 2. data.TabularDataset\n",
    "train_data, valid_data, test_data = data.TabularDataset.splits(path=TrustPilot_processed_dataset_path,\n",
    "                                                               train=\"train.jsonl\",\n",
    "                                                               validation = \"valid.jsonl\",\n",
    "                                                               test=\"test.jsonl\",\n",
    "                                                               fields=fields,\n",
    "                                                               format=\"json\")"
   ]
  },
  {
   "cell_type": "code",
   "execution_count": 7,
   "metadata": {},
   "outputs": [
    {
     "name": "stdout",
     "output_type": "stream",
     "text": [
      "Number of train_data = 486\n",
      "Number of valid_data = 54\n",
      "Number of test_data = 60\n",
      "\n"
     ]
    }
   ],
   "source": [
    "print(\"Number of train_data = {}\".format(len(train_data)))\n",
    "print(\"Number of valid_data = {}\".format(len(valid_data)))\n",
    "print(\"Number of test_data = {}\\n\".format(len(test_data)))"
   ]
  },
  {
   "cell_type": "code",
   "execution_count": 8,
   "metadata": {},
   "outputs": [],
   "source": [
    "# 4. data.BucketIterator\n",
    "train_iter, valid_iter, test_iter = data.BucketIterator.splits((train_data, valid_data, test_data),\n",
    "                                                               batch_size=BATCH_SIZE,\n",
    "                                                               device=device,\n",
    "                                                               sort_key=lambda x: len(x.text))\n",
    "\n",
    "# 5. Build vocab\n",
    "# TEXT.build_vocab(train_data)\n",
    "TAG_LABEL.build_vocab(train_data)\n",
    "AGE_LABEL.build_vocab(train_data)\n",
    "GENDER_LABEL.build_vocab(train_data)\n"
   ]
  },
  {
   "cell_type": "code",
   "execution_count": 9,
   "metadata": {},
   "outputs": [],
   "source": [
    "MIN_FREQ = 2\n",
    "\n",
    "TEXT.build_vocab(train_data, \n",
    "                 min_freq = MIN_FREQ,\n",
    "                 vectors = \"glove.6B.100d\",\n",
    "                 unk_init = torch.Tensor.normal_)"
   ]
  },
  {
   "cell_type": "code",
   "execution_count": null,
   "metadata": {},
   "outputs": [],
   "source": []
  },
  {
   "cell_type": "code",
   "execution_count": 10,
   "metadata": {},
   "outputs": [],
   "source": [
    "class BiLSTMPOSTagger(nn.Module):\n",
    "    def __init__(self, \n",
    "                 input_dim, \n",
    "                 embedding_dim, \n",
    "                 hidden_dim, \n",
    "                 output_dim, \n",
    "                 n_layers, \n",
    "                 bidirectional, \n",
    "                 dropout, \n",
    "                 pad_idx):\n",
    "        \n",
    "        super().__init__()\n",
    "        \n",
    "        self.embedding = nn.Embedding(input_dim, embedding_dim, padding_idx = pad_idx)\n",
    "        \n",
    "        self.lstm = nn.LSTM(embedding_dim, \n",
    "                            hidden_dim, \n",
    "                            num_layers = n_layers, \n",
    "                            bidirectional = bidirectional,\n",
    "                            dropout = dropout if n_layers > 1 else 0)\n",
    "        \n",
    "        self.fc = nn.Linear(hidden_dim * 2 if bidirectional else hidden_dim, output_dim)\n",
    "        \n",
    "        self.dropout = nn.Dropout(dropout)\n",
    "        \n",
    "    def forward(self, text):\n",
    "\n",
    "        #text = [sent len, batch size]\n",
    "        \n",
    "        #pass text through embedding layer\n",
    "        embedded = self.dropout(self.embedding(text))\n",
    "        \n",
    "        #embedded = [sent len, batch size, emb dim]\n",
    "        \n",
    "        #pass embeddings into LSTM\n",
    "        outputs, (hidden, cell) = self.lstm(embedded)\n",
    "        \n",
    "        #outputs holds the backward and forward hidden states in the final layer\n",
    "        #hidden and cell are the backward and forward hidden and cell states at the final time-step\n",
    "        \n",
    "        #output = [sent len, batch size, hid dim * n directions]\n",
    "        #hidden/cell = [n layers * n directions, batch size, hid dim]\n",
    "        \n",
    "        #we use our outputs to make a prediction of what the tag should be\n",
    "        predictions = self.fc(self.dropout(outputs))\n",
    "        \n",
    "        #predictions = [sent len, batch size, output dim]\n",
    "        \n",
    "        return predictions\n",
    "    \n",
    "    def hidden_state(self, text):\n",
    "\n",
    "        #text = [sent len, batch size]\n",
    "        \n",
    "        #pass text through embedding layer\n",
    "        embedded = self.dropout(self.embedding(text))\n",
    "        \n",
    "        #embedded = [sent len, batch size, emb dim]\n",
    "        \n",
    "        #pass embeddings into LSTM\n",
    "        outputs, (hidden, cell) = self.lstm(embedded)\n",
    "        \n",
    "        #outputs holds the backward and forward hidden states in the final layer\n",
    "        #hidden and cell are the backward and forward hidden and cell states at the final time-step\n",
    "        \n",
    "        #output = [sent len, batch size, hid dim * n directions]\n",
    "        #hidden/cell = [n layers * n directions, batch size, hid dim]\n",
    "        \n",
    "        \n",
    "        # hidden state = [batch size, sent len * hid dim * n directions]\n",
    "        # hs = torch.stack([torch.squeeze(i.reshape((outputs.shape[0]*outputs.shape[2],-1))) for i in torch.torch.chunk(outputs, outputs.shape[1], 1)], dim=0)\n",
    "        return torch.mean(outputs, 0, keepdim=False)"
   ]
  },
  {
   "cell_type": "code",
   "execution_count": 11,
   "metadata": {},
   "outputs": [],
   "source": [
    "####################################\n",
    "#      Build the Discriminator     #\n",
    "####################################\n",
    "class Discriminator(nn.Module):\n",
    "\n",
    "    def __init__(self, input_size, hidden_size, num_classes):\n",
    "        super(Discriminator, self).__init__()\n",
    "        self.fc1 = nn.Linear(input_size, hidden_size)\n",
    "        self.relu = nn.ReLU()\n",
    "        self.fc2 = nn.Linear(hidden_size, num_classes)\n",
    "\n",
    "\n",
    "    def forward(self, input):\n",
    "        out = self.fc1(input)\n",
    "        out = self.relu(out)\n",
    "        out = self.fc2(out)\n",
    "        # features = features.view(x.shape[0], -1)\n",
    "        out = F.log_softmax(out, dim=1)\n",
    "        return out"
   ]
  },
  {
   "cell_type": "code",
   "execution_count": 12,
   "metadata": {},
   "outputs": [],
   "source": [
    "# Parameters\n",
    "INPUT_DIM = len(TEXT.vocab)\n",
    "TAG_OUTPUT_DIM = len(TAG_LABEL.vocab)\n",
    "AGE_OUTPUT_DIM = len(AGE_LABEL.vocab)\n",
    "GENDER_OUTPUT_DIM = len(GENDER_LABEL.vocab)\n",
    "N_LAYERS = 2\n",
    "BIDIRECTIONAL = True\n",
    "DROPOUT = 0.25\n",
    "PAD_IDX = TEXT.vocab.stoi[TEXT.pad_token]\n",
    "\n",
    "\n",
    "model = BiLSTMPOSTagger(INPUT_DIM, \n",
    "                        EMBEDDING_DIM, \n",
    "                        HIDDEN_DIM, \n",
    "                        TAG_OUTPUT_DIM, \n",
    "                        N_LAYERS, \n",
    "                        BIDIRECTIONAL, \n",
    "                        DROPOUT, \n",
    "                        PAD_IDX)"
   ]
  },
  {
   "cell_type": "code",
   "execution_count": 13,
   "metadata": {},
   "outputs": [],
   "source": [
    "# Create an Age Discriminator instance\n",
    "discriminator_age = Discriminator(input_size=HIDDEN_DIM*2,\n",
    "                                  hidden_size=HIDDEN_DIM,\n",
    "                                  num_classes=2)\n",
    "\n",
    "discriminator_age.to(device)\n",
    "\n",
    "criterion_age = nn.CrossEntropyLoss().to(device)\n",
    "optimizer_age = optim.Adam(discriminator_age.parameters(), lr=LEARNING_RATE)"
   ]
  },
  {
   "cell_type": "code",
   "execution_count": 14,
   "metadata": {},
   "outputs": [],
   "source": [
    "# Create an Gender Discriminator instance\n",
    "discriminator_gender = Discriminator(input_size=HIDDEN_DIM*2,\n",
    "                                  hidden_size=HIDDEN_DIM,\n",
    "                                  num_classes=2)\n",
    "\n",
    "discriminator_gender.to(device)\n",
    "\n",
    "criterion_gender = nn.CrossEntropyLoss().to(device)\n",
    "optimizer_gender = optim.Adam(discriminator_gender.parameters(), lr=LEARNING_RATE)"
   ]
  },
  {
   "cell_type": "code",
   "execution_count": 15,
   "metadata": {},
   "outputs": [
    {
     "data": {
      "text/plain": [
       "BiLSTMPOSTagger(\n",
       "  (embedding): Embedding(766, 100, padding_idx=1)\n",
       "  (lstm): LSTM(100, 256, num_layers=2, dropout=0.25, bidirectional=True)\n",
       "  (fc): Linear(in_features=512, out_features=13, bias=True)\n",
       "  (dropout): Dropout(p=0.25, inplace=False)\n",
       ")"
      ]
     },
     "execution_count": 15,
     "metadata": {},
     "output_type": "execute_result"
    }
   ],
   "source": [
    "model.apply(init_weights)"
   ]
  },
  {
   "cell_type": "code",
   "execution_count": 16,
   "metadata": {},
   "outputs": [
    {
     "name": "stdout",
     "output_type": "stream",
     "text": [
      "The model has 2,393,413 trainable parameters\n"
     ]
    }
   ],
   "source": [
    "print(f'The model has {count_parameters(model):,} trainable parameters')"
   ]
  },
  {
   "cell_type": "code",
   "execution_count": 17,
   "metadata": {},
   "outputs": [
    {
     "name": "stdout",
     "output_type": "stream",
     "text": [
      "torch.Size([766, 100])\n"
     ]
    }
   ],
   "source": [
    "pretrained_embeddings = TEXT.vocab.vectors\n",
    "\n",
    "print(pretrained_embeddings.shape)"
   ]
  },
  {
   "cell_type": "code",
   "execution_count": 18,
   "metadata": {},
   "outputs": [
    {
     "data": {
      "text/plain": [
       "tensor([[ 0.9130, -0.5882, -1.1043,  ..., -0.5646, -1.2453,  2.2959],\n",
       "        [ 1.4369,  1.5932, -0.4207,  ..., -0.2081, -0.3758, -1.7615],\n",
       "        [-0.3398,  0.2094,  0.4635,  ..., -0.2339,  0.4730, -0.0288],\n",
       "        ...,\n",
       "        [-0.1194,  0.5419,  0.6217,  ..., -0.3805, -0.0422,  0.3516],\n",
       "        [ 0.3576,  0.0981, -0.1268,  ...,  0.2066, -0.1067, -0.4127],\n",
       "        [-0.0263,  0.0179, -0.5016,  ..., -0.8688,  0.9409, -0.2882]])"
      ]
     },
     "execution_count": 18,
     "metadata": {},
     "output_type": "execute_result"
    }
   ],
   "source": [
    "model.embedding.weight.data.copy_(pretrained_embeddings)"
   ]
  },
  {
   "cell_type": "code",
   "execution_count": 19,
   "metadata": {},
   "outputs": [
    {
     "name": "stdout",
     "output_type": "stream",
     "text": [
      "tensor([[ 0.9130, -0.5882, -1.1043,  ..., -0.5646, -1.2453,  2.2959],\n",
      "        [ 0.0000,  0.0000,  0.0000,  ...,  0.0000,  0.0000,  0.0000],\n",
      "        [-0.3398,  0.2094,  0.4635,  ..., -0.2339,  0.4730, -0.0288],\n",
      "        ...,\n",
      "        [-0.1194,  0.5419,  0.6217,  ..., -0.3805, -0.0422,  0.3516],\n",
      "        [ 0.3576,  0.0981, -0.1268,  ...,  0.2066, -0.1067, -0.4127],\n",
      "        [-0.0263,  0.0179, -0.5016,  ..., -0.8688,  0.9409, -0.2882]])\n"
     ]
    }
   ],
   "source": [
    "\n",
    "model.embedding.weight.data[PAD_IDX] = torch.zeros(EMBEDDING_DIM)\n",
    "\n",
    "print(model.embedding.weight.data)"
   ]
  },
  {
   "cell_type": "code",
   "execution_count": 20,
   "metadata": {},
   "outputs": [],
   "source": [
    "optimizer = optim.Adam(model.parameters(), lr=LEARNING_RATE)"
   ]
  },
  {
   "cell_type": "code",
   "execution_count": 21,
   "metadata": {},
   "outputs": [],
   "source": [
    "TAG_PAD_IDX = TAG_LABEL.vocab.stoi[TAG_LABEL.pad_token]\n",
    "\n",
    "criterion = nn.CrossEntropyLoss(ignore_index = TAG_PAD_IDX)"
   ]
  },
  {
   "cell_type": "code",
   "execution_count": 22,
   "metadata": {},
   "outputs": [],
   "source": [
    "model = model.to(device)\n",
    "criterion = criterion.to(device)"
   ]
  },
  {
   "cell_type": "code",
   "execution_count": 23,
   "metadata": {},
   "outputs": [],
   "source": [
    "def train(model, iterator, optimizer, criterion, tag_pad_idx, LAMBDA):\n",
    "    \n",
    "    epoch_loss = 0\n",
    "    epoch_acc = 0\n",
    "    \n",
    "    model.train()\n",
    "    \n",
    "    for batch in iterator:\n",
    "        \n",
    "        text = batch.text\n",
    "        tags = batch.tag_label\n",
    "        \n",
    "        \n",
    "        h = model.hidden_state(text)\n",
    "        \n",
    "        \"\"\"\n",
    "        Update age discriminitor\n",
    "        \"\"\"\n",
    "        y_age = batch.age_label\n",
    "        \n",
    "        y_age_pred = discriminator_age(h).squeeze()\n",
    "        \n",
    "        age_loss = criterion_age(y_age_pred, y_age)\n",
    "        \n",
    "        optimizer_age.zero_grad()\n",
    "        age_loss.backward(retain_graph=True)\n",
    "        optimizer_age.step()\n",
    "        \n",
    "        \"\"\"\n",
    "        Update gender discriminitor\n",
    "        \"\"\"\n",
    "        y_gender = batch.gender_label\n",
    "        y_gender_pred = discriminator_gender(h).squeeze()\n",
    "        \n",
    "        gender_loss = criterion_gender(y_gender_pred, y_gender)\n",
    "        \n",
    "        optimizer_gender.zero_grad()\n",
    "        gender_loss.backward(retain_graph=True)\n",
    "        optimizer_gender.step()\n",
    "        \n",
    "        \n",
    "        \"\"\"\n",
    "        Update Tagger\n",
    "        \"\"\"\n",
    "        optimizer.zero_grad()\n",
    "        \n",
    "        #text = [sent len, batch size]\n",
    "        \n",
    "        predictions = model(text)\n",
    "        \n",
    "        #predictions = [sent len, batch size, output dim]\n",
    "        #tags = [sent len, batch size]\n",
    "        \n",
    "        predictions = predictions.view(-1, predictions.shape[-1])\n",
    "        tags = tags.view(-1)\n",
    "        \n",
    "        #predictions = [sent len * batch size, output dim]\n",
    "        #tags = [sent len * batch size]\n",
    "        \n",
    "        loss = criterion(predictions, tags) - LAMBDA * age_loss - LAMBDA * gender_loss\n",
    "                \n",
    "        acc = categorical_accuracy(predictions, tags, tag_pad_idx)\n",
    "        \n",
    "        loss.backward()\n",
    "        \n",
    "        optimizer.step()\n",
    "        \n",
    "        epoch_loss += loss.item()\n",
    "        epoch_acc += acc.item()\n",
    "        \n",
    "    return epoch_loss / len(iterator), epoch_acc / len(iterator)"
   ]
  },
  {
   "cell_type": "code",
   "execution_count": 24,
   "metadata": {},
   "outputs": [],
   "source": [
    "\n",
    "def evaluate(model, iterator, criterion, tag_pad_idx):\n",
    "    \n",
    "    epoch_loss = 0\n",
    "    epoch_acc = 0\n",
    "    \n",
    "    model.eval()\n",
    "    \n",
    "    with torch.no_grad():\n",
    "    \n",
    "        for batch in iterator:\n",
    "\n",
    "            text = batch.text\n",
    "            tags = batch.tag_label\n",
    "            \n",
    "            h = model.hidden_state(text)\n",
    "\n",
    "            y_age = batch.age_label\n",
    "\n",
    "            y_age_pred = discriminator_age(h).squeeze()\n",
    "\n",
    "            age_loss = criterion_age(y_age_pred, y_age)\n",
    "\n",
    "            y_gender = batch.gender_label\n",
    "            y_gender_pred = discriminator_gender(h).squeeze()\n",
    "\n",
    "            gender_loss = criterion_gender(y_gender_pred, y_gender)\n",
    "\n",
    "            predictions = model(text)\n",
    "\n",
    "            predictions = predictions.view(-1, predictions.shape[-1])\n",
    "            tags = tags.view(-1)\n",
    "\n",
    "            loss = criterion(predictions, tags) - LAMBDA * age_loss - LAMBDA * gender_loss\n",
    "            \n",
    "            acc = categorical_accuracy(predictions, tags, tag_pad_idx)\n",
    "\n",
    "            epoch_loss += loss.item()\n",
    "            epoch_acc += acc.item()\n",
    "        \n",
    "    return epoch_loss / len(iterator), epoch_acc / len(iterator)"
   ]
  },
  {
   "cell_type": "code",
   "execution_count": 25,
   "metadata": {},
   "outputs": [
    {
     "name": "stdout",
     "output_type": "stream",
     "text": [
      "Overall\n",
      "Accuracy : 0.883117\n",
      "F Score : 0.859736\n",
      "Age group\n",
      "Accuracy Under35: 0.870924 V.S. Over45: 0.901210\n",
      "F Score Under35: 0.851976 V.S. Over45: 0.874331\n",
      "Gender group\n",
      "Accuracy Female: 0.880266 V.S. Male: 0.884763\n",
      "F Score Female: 0.859096 V.S. Male: 0.851337\n",
      "Overall\n",
      "Accuracy : 0.883117\n",
      "F Score : 0.861036\n",
      "Age group\n",
      "Accuracy Under35: 0.870924 V.S. Over45: 0.901210\n",
      "F Score Under35: 0.852669 V.S. Over45: 0.876015\n",
      "Gender group\n",
      "Accuracy Female: 0.893570 V.S. Male: 0.877081\n",
      "F Score Female: 0.877868 V.S. Male: 0.843049\n",
      "Overall\n",
      "Accuracy : 0.887175\n",
      "F Score : 0.865991\n",
      "Age group\n",
      "Accuracy Under35: 0.879076 V.S. Over45: 0.899194\n",
      "F Score Under35: 0.857208 V.S. Over45: 0.881130\n",
      "Gender group\n",
      "Accuracy Female: 0.904656 V.S. Male: 0.877081\n",
      "F Score Female: 0.889040 V.S. Male: 0.846648\n",
      "Overall\n",
      "Accuracy : 0.888799\n",
      "F Score : 0.865449\n",
      "Age group\n",
      "Accuracy Under35: 0.880435 V.S. Over45: 0.901210\n",
      "F Score Under35: 0.856380 V.S. Over45: 0.880961\n",
      "Gender group\n",
      "Accuracy Female: 0.902439 V.S. Male: 0.880922\n",
      "F Score Female: 0.884735 V.S. Male: 0.847273\n",
      "Overall\n",
      "Accuracy : 0.883117\n",
      "F Score : 0.863050\n",
      "Age group\n",
      "Accuracy Under35: 0.877717 V.S. Over45: 0.891129\n",
      "F Score Under35: 0.857781 V.S. Over45: 0.873096\n",
      "Gender group\n",
      "Accuracy Female: 0.900222 V.S. Male: 0.873239\n",
      "F Score Female: 0.883578 V.S. Male: 0.843767\n"
     ]
    }
   ],
   "source": [
    "for repeated_time in range(5):\n",
    "    best_valid_loss = float('inf')\n",
    "    best_epoch = -1\n",
    "    \n",
    "    saved_model = mode_save_path+model_name.format(repeated_time+1)\n",
    "    \n",
    "    for epoch in range(NUM_EPOCHS):    \n",
    "        train_loss, train_acc = train(model, train_iter, optimizer, criterion, TAG_PAD_IDX, LAMBDA)\n",
    "        valid_loss, valid_acc = evaluate(model, valid_iter, criterion, TAG_PAD_IDX)\n",
    "\n",
    "        if valid_loss < best_valid_loss:\n",
    "            best_valid_loss = valid_loss\n",
    "            best_epoch = epoch\n",
    "            torch.save(model.state_dict(), saved_model)\n",
    "\n",
    "    model.load_state_dict(torch.load(saved_model))\n",
    "    print(\"Bset epoch: {:3f}\".format(best_epoch))\n",
    "    evaluate_bias(model, test_iter, TAG_PAD_IDX)"
   ]
  },
  {
   "cell_type": "code",
   "execution_count": null,
   "metadata": {},
   "outputs": [],
   "source": []
  }
 ],
 "metadata": {
  "kernelspec": {
   "display_name": "Python 3.7.6 64-bit ('py37-Torch-Transformers': conda)",
   "language": "python",
   "name": "python37664bitpy37torchtransformerscondae93daae8d17e423a9d2b476995b931c9"
  },
  "language_info": {
   "codemirror_mode": {
    "name": "ipython",
    "version": 3
   },
   "file_extension": ".py",
   "mimetype": "text/x-python",
   "name": "python",
   "nbconvert_exporter": "python",
   "pygments_lexer": "ipython3",
   "version": "3.7.6"
  }
 },
 "nbformat": 4,
 "nbformat_minor": 4
}
