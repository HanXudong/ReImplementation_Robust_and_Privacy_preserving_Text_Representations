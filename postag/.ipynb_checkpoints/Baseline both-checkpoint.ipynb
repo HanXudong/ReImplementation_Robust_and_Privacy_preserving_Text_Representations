{
 "cells": [
  {
   "cell_type": "code",
   "execution_count": 1,
   "metadata": {},
   "outputs": [],
   "source": [
    "from sklearn.metrics import accuracy_score\n",
    "from sklearn.metrics import roc_auc_score\n",
    "from sklearn.metrics import average_precision_score\n",
    "from sklearn.metrics import f1_score\n",
    "import numpy as np\n",
    "\n",
    "import torch\n",
    "import torch.nn as nn\n",
    "import torch.optim as optim\n",
    "import torch.nn.functional as F\n",
    "import torch.autograd as autograd\n",
    "from torch.nn.utils.rnn import pack_padded_sequence, pad_packed_sequence\n",
    "\n",
    "import torchtext\n",
    "from torchtext.data import get_tokenizer\n",
    "from torchtext import data, datasets\n",
    "\n",
    "import json\n",
    "import random\n",
    "\n",
    "from tqdm import tqdm, trange\n",
    "\n",
    "from POS_utils import *"
   ]
  },
  {
   "cell_type": "code",
   "execution_count": 2,
   "metadata": {},
   "outputs": [],
   "source": [
    "# Dataset path\n",
    "TrustPilot_processed_dataset_path = \"..//dataset//TrustPilot_processed//\"\n",
    "\n",
    "# Device\n",
    "device = torch.device('cuda' if torch.cuda.is_available() else 'cpu')\n",
    "\n",
    "mode_save_path = 'Models\\\\'\n",
    "model_name = 'baseline_both_{}.pt'"
   ]
  },
  {
   "cell_type": "code",
   "execution_count": 3,
   "metadata": {},
   "outputs": [],
   "source": [
    "####################################\n",
    "#         Hyper-parameters         #\n",
    "####################################\n",
    "BATCH_SIZE = 64\n",
    "LEARNING_RATE = 1e-3\n",
    "EMBEDDING_DIM = 100\n",
    "HIDDEN_DIM = 256\n",
    "N_LAYERS = 2\n",
    "BIDIRECTIONAL = True\n",
    "DROUPOUT = 0.5\n",
    "NUM_EPOCHS = 50"
   ]
  },
  {
   "cell_type": "code",
   "execution_count": 4,
   "metadata": {},
   "outputs": [],
   "source": [
    "####################################\n",
    "#          Preparing Data          #\n",
    "####################################\n",
    "SEED = 25042020\n",
    "\n",
    "\n",
    "# 1. data.Field()\n",
    "# TEXT = data.Field(include_lengths=True, pad_token='<pad>', unk_token='<unk>')\n",
    "TEXT = data.Field(lower = True)\n",
    "TAG_LABEL = data.Field(unk_token = None)\n",
    "AGE_LABEL = data.LabelField()\n",
    "GENDER_LABEL = data.LabelField()"
   ]
  },
  {
   "cell_type": "code",
   "execution_count": 5,
   "metadata": {},
   "outputs": [],
   "source": [
    "fields = {'text':('text', TEXT), \n",
    "          'tag_label':('tag_label', TAG_LABEL),\n",
    "          'age_label':('age_label', AGE_LABEL),\n",
    "          'gender_label':('gender_label', GENDER_LABEL)}"
   ]
  },
  {
   "cell_type": "code",
   "execution_count": 6,
   "metadata": {},
   "outputs": [],
   "source": [
    "# train, val, test\n",
    "# 2. data.TabularDataset\n",
    "train_data, valid_data, test_data = data.TabularDataset.splits(path=TrustPilot_processed_dataset_path,\n",
    "                                                               train=\"train.jsonl\",\n",
    "                                                               validation = \"valid.jsonl\",\n",
    "                                                               test=\"test.jsonl\",\n",
    "                                                               fields=fields,\n",
    "                                                               format=\"json\")"
   ]
  },
  {
   "cell_type": "code",
   "execution_count": 7,
   "metadata": {},
   "outputs": [
    {
     "name": "stdout",
     "output_type": "stream",
     "text": [
      "Number of train_data = 486\n",
      "Number of valid_data = 54\n",
      "Number of test_data = 60\n",
      "\n"
     ]
    }
   ],
   "source": [
    "print(\"Number of train_data = {}\".format(len(train_data)))\n",
    "print(\"Number of valid_data = {}\".format(len(valid_data)))\n",
    "print(\"Number of test_data = {}\\n\".format(len(test_data)))"
   ]
  },
  {
   "cell_type": "code",
   "execution_count": 8,
   "metadata": {},
   "outputs": [],
   "source": [
    "# 4. data.BucketIterator\n",
    "train_iter, valid_iter, test_iter = data.BucketIterator.splits((train_data, valid_data, test_data),\n",
    "                                                               batch_size=BATCH_SIZE,\n",
    "                                                               device=device,\n",
    "                                                               sort_key=lambda x: len(x.text))\n",
    "\n",
    "# 5. Build vocab\n",
    "# TEXT.build_vocab(train_data)\n",
    "TAG_LABEL.build_vocab(train_data)\n",
    "AGE_LABEL.build_vocab(train_data)\n",
    "GENDER_LABEL.build_vocab(train_data)\n"
   ]
  },
  {
   "cell_type": "code",
   "execution_count": 9,
   "metadata": {},
   "outputs": [],
   "source": [
    "MIN_FREQ = 2\n",
    "\n",
    "TEXT.build_vocab(train_data, \n",
    "                 min_freq = MIN_FREQ,\n",
    "                 vectors = \"glove.6B.100d\",\n",
    "                 unk_init = torch.Tensor.normal_)"
   ]
  },
  {
   "cell_type": "code",
   "execution_count": 10,
   "metadata": {},
   "outputs": [],
   "source": [
    "# Parameters\n",
    "INPUT_DIM = len(TEXT.vocab)\n",
    "TAG_OUTPUT_DIM = len(TAG_LABEL.vocab)\n",
    "AGE_OUTPUT_DIM = len(AGE_LABEL.vocab)\n",
    "GENDER_OUTPUT_DIM = len(GENDER_LABEL.vocab)\n",
    "N_LAYERS = 2\n",
    "BIDIRECTIONAL = True\n",
    "DROPOUT = 0.25\n",
    "PAD_IDX = TEXT.vocab.stoi[TEXT.pad_token]"
   ]
  },
  {
   "cell_type": "code",
   "execution_count": 11,
   "metadata": {},
   "outputs": [
    {
     "data": {
      "text/plain": [
       "BiLSTMPOSTagger(\n",
       "  (embedding): Embedding(766, 100, padding_idx=1)\n",
       "  (lstm): LSTM(100, 256, num_layers=2, dropout=0.25, bidirectional=True)\n",
       "  (fc): Linear(in_features=512, out_features=13, bias=True)\n",
       "  (dropout): Dropout(p=0.25, inplace=False)\n",
       ")"
      ]
     },
     "execution_count": 11,
     "metadata": {},
     "output_type": "execute_result"
    }
   ],
   "source": [
    "model = BiLSTMPOSTagger(INPUT_DIM, \n",
    "                        EMBEDDING_DIM, \n",
    "                        HIDDEN_DIM, \n",
    "                        TAG_OUTPUT_DIM, \n",
    "                        N_LAYERS, \n",
    "                        BIDIRECTIONAL, \n",
    "                        DROPOUT, \n",
    "                        PAD_IDX)\n",
    "\n",
    "model.apply(init_weights)"
   ]
  },
  {
   "cell_type": "code",
   "execution_count": 12,
   "metadata": {},
   "outputs": [
    {
     "name": "stdout",
     "output_type": "stream",
     "text": [
      "The model has 2,393,413 trainable parameters\n"
     ]
    }
   ],
   "source": [
    "print(f'The model has {count_parameters(model):,} trainable parameters')"
   ]
  },
  {
   "cell_type": "code",
   "execution_count": 13,
   "metadata": {},
   "outputs": [
    {
     "name": "stdout",
     "output_type": "stream",
     "text": [
      "torch.Size([766, 100])\n"
     ]
    }
   ],
   "source": [
    "pretrained_embeddings = TEXT.vocab.vectors\n",
    "\n",
    "print(pretrained_embeddings.shape)"
   ]
  },
  {
   "cell_type": "code",
   "execution_count": 14,
   "metadata": {},
   "outputs": [
    {
     "data": {
      "text/plain": [
       "tensor([[ 1.3783, -0.7497, -2.1660,  ...,  0.6147, -0.0183,  0.0452],\n",
       "        [ 0.6506, -1.2298,  0.1797,  ..., -0.8687, -0.2222,  0.3094],\n",
       "        [-0.3398,  0.2094,  0.4635,  ..., -0.2339,  0.4730, -0.0288],\n",
       "        ...,\n",
       "        [-0.1194,  0.5419,  0.6217,  ..., -0.3805, -0.0422,  0.3516],\n",
       "        [ 0.3576,  0.0981, -0.1268,  ...,  0.2066, -0.1067, -0.4127],\n",
       "        [-0.0263,  0.0179, -0.5016,  ..., -0.8688,  0.9409, -0.2882]])"
      ]
     },
     "execution_count": 14,
     "metadata": {},
     "output_type": "execute_result"
    }
   ],
   "source": [
    "model.embedding.weight.data.copy_(pretrained_embeddings)"
   ]
  },
  {
   "cell_type": "code",
   "execution_count": 15,
   "metadata": {},
   "outputs": [
    {
     "name": "stdout",
     "output_type": "stream",
     "text": [
      "tensor([[ 1.3783, -0.7497, -2.1660,  ...,  0.6147, -0.0183,  0.0452],\n",
      "        [ 0.0000,  0.0000,  0.0000,  ...,  0.0000,  0.0000,  0.0000],\n",
      "        [-0.3398,  0.2094,  0.4635,  ..., -0.2339,  0.4730, -0.0288],\n",
      "        ...,\n",
      "        [-0.1194,  0.5419,  0.6217,  ..., -0.3805, -0.0422,  0.3516],\n",
      "        [ 0.3576,  0.0981, -0.1268,  ...,  0.2066, -0.1067, -0.4127],\n",
      "        [-0.0263,  0.0179, -0.5016,  ..., -0.8688,  0.9409, -0.2882]])\n"
     ]
    }
   ],
   "source": [
    "\n",
    "model.embedding.weight.data[PAD_IDX] = torch.zeros(EMBEDDING_DIM)\n",
    "\n",
    "print(model.embedding.weight.data)"
   ]
  },
  {
   "cell_type": "code",
   "execution_count": 16,
   "metadata": {},
   "outputs": [],
   "source": [
    "optimizer = optim.Adam(model.parameters(), lr=LEARNING_RATE)"
   ]
  },
  {
   "cell_type": "code",
   "execution_count": 17,
   "metadata": {},
   "outputs": [],
   "source": [
    "TAG_PAD_IDX = TAG_LABEL.vocab.stoi[TAG_LABEL.pad_token]\n",
    "\n",
    "criterion = nn.CrossEntropyLoss(ignore_index = TAG_PAD_IDX)"
   ]
  },
  {
   "cell_type": "code",
   "execution_count": 18,
   "metadata": {},
   "outputs": [],
   "source": [
    "model = model.to(device)\n",
    "criterion = criterion.to(device)"
   ]
  },
  {
   "cell_type": "code",
   "execution_count": 19,
   "metadata": {},
   "outputs": [],
   "source": [
    "def train(model, iterator, optimizer, criterion, tag_pad_idx):\n",
    "    \n",
    "    epoch_loss = 0\n",
    "    epoch_acc = 0\n",
    "    \n",
    "    model.train()\n",
    "    \n",
    "    for batch in iterator:\n",
    "        \n",
    "        text = batch.text\n",
    "        tags = batch.tag_label\n",
    "        \n",
    "        optimizer.zero_grad()\n",
    "        \n",
    "        #text = [sent len, batch size]\n",
    "        \n",
    "        predictions = model(text)\n",
    "        \n",
    "        #predictions = [sent len, batch size, output dim]\n",
    "        #tags = [sent len, batch size]\n",
    "        \n",
    "        predictions = predictions.view(-1, predictions.shape[-1])\n",
    "        tags = tags.view(-1)\n",
    "        \n",
    "        #predictions = [sent len * batch size, output dim]\n",
    "        #tags = [sent len * batch size]\n",
    "        \n",
    "        loss = criterion(predictions, tags)\n",
    "                \n",
    "        acc = categorical_accuracy(predictions, tags, tag_pad_idx)\n",
    "        \n",
    "        loss.backward()\n",
    "        \n",
    "        optimizer.step()\n",
    "        \n",
    "        epoch_loss += loss.item()\n",
    "        epoch_acc += acc.item()\n",
    "        \n",
    "    return epoch_loss / len(iterator), epoch_acc / len(iterator)"
   ]
  },
  {
   "cell_type": "code",
   "execution_count": 20,
   "metadata": {},
   "outputs": [],
   "source": [
    "\n",
    "def evaluate(model, iterator, criterion, tag_pad_idx):\n",
    "    \n",
    "    epoch_loss = 0\n",
    "    epoch_acc = 0\n",
    "    \n",
    "    model.eval()\n",
    "    \n",
    "    with torch.no_grad():\n",
    "    \n",
    "        for batch in iterator:\n",
    "\n",
    "            text = batch.text\n",
    "            tags = batch.tag_label\n",
    "            \n",
    "            predictions = model(text)\n",
    "            \n",
    "            predictions = predictions.view(-1, predictions.shape[-1])\n",
    "            tags = tags.view(-1)\n",
    "            \n",
    "            loss = criterion(predictions, tags)\n",
    "            \n",
    "            acc = categorical_accuracy(predictions, tags, tag_pad_idx)\n",
    "\n",
    "            epoch_loss += loss.item()\n",
    "            epoch_acc += acc.item()\n",
    "        \n",
    "    return epoch_loss / len(iterator), epoch_acc / len(iterator)"
   ]
  },
  {
   "cell_type": "code",
   "execution_count": 22,
   "metadata": {},
   "outputs": [
    {
     "name": "stdout",
     "output_type": "stream",
     "text": [
      "Bset epoch: 20.000000\n",
      "Overall\n",
      "Accuracy : 0.886364\n",
      "F Score : 0.866469\n",
      "Age group\n",
      "Accuracy Under35: 0.869565 V.S. Over45: 0.911290\n",
      "F Score Under35: 0.853551 V.S. Over45: 0.888278\n",
      "Gender group\n",
      "Accuracy Female: 0.880266 V.S. Male: 0.889885\n",
      "F Score Female: 0.865868 V.S. Male: 0.858521\n"
     ]
    },
    {
     "data": {
      "text/plain": [
       "0"
      ]
     },
     "execution_count": 22,
     "metadata": {},
     "output_type": "execute_result"
    }
   ],
   "source": [
    "repeated_time = 0\n",
    "\n",
    "best_valid_loss = float('inf')\n",
    "best_epoch = -1\n",
    "    \n",
    "saved_model = mode_save_path+model_name.format(repeated_time+1)\n",
    "    \n",
    "for epoch in range(NUM_EPOCHS):    \n",
    "    train_loss, train_acc = train(model, train_iter, optimizer, criterion, TAG_PAD_IDX)\n",
    "    valid_loss, valid_acc = evaluate(model, valid_iter, criterion, TAG_PAD_IDX)\n",
    "    if valid_loss < best_valid_loss:\n",
    "        best_valid_loss = valid_loss\n",
    "        best_epoch = epoch\n",
    "        torch.save(model.state_dict(), saved_model)\n",
    "\n",
    "model.load_state_dict(torch.load(saved_model))\n",
    "print(\"Bset epoch: {:3f}\".format(best_epoch))\n",
    "evaluate_bias(model, test_iter, TAG_PAD_IDX)"
   ]
  },
  {
   "cell_type": "code",
   "execution_count": null,
   "metadata": {},
   "outputs": [],
   "source": []
  },
  {
   "cell_type": "code",
   "execution_count": null,
   "metadata": {},
   "outputs": [],
   "source": []
  }
 ],
 "metadata": {
  "kernelspec": {
   "display_name": "Python 3.7.6 64-bit ('py37-Torch-Transformers': conda)",
   "language": "python",
   "name": "python37664bitpy37torchtransformerscondae93daae8d17e423a9d2b476995b931c9"
  },
  "language_info": {
   "codemirror_mode": {
    "name": "ipython",
    "version": 3
   },
   "file_extension": ".py",
   "mimetype": "text/x-python",
   "name": "python",
   "nbconvert_exporter": "python",
   "pygments_lexer": "ipython3",
   "version": "3.7.6"
  }
 },
 "nbformat": 4,
 "nbformat_minor": 4
}
