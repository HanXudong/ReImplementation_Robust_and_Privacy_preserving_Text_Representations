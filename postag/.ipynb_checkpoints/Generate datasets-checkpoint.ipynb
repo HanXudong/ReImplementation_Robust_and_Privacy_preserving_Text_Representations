{
 "cells": [
  {
   "cell_type": "code",
   "execution_count": 1,
   "metadata": {},
   "outputs": [],
   "source": [
    "import numpy as np\n",
    "import pandas as pd\n",
    "import os\n",
    "\n",
    "# Filename\n",
    "dataset_path = \"../dataset/TrustPilot/\"\n",
    "\n",
    "valid_filename = \"../dataset/TrustPilot_processed/valid.jsonl\"\n",
    "train_filename = \"../dataset/TrustPilot_processed/train.jsonl\"\n",
    "test_filename = \"../dataset/TrustPilot_processed/test.jsonl\""
   ]
  },
  {
   "cell_type": "code",
   "execution_count": 2,
   "metadata": {},
   "outputs": [],
   "source": [
    "def load_web_eng(filename = \"\"):\n",
    "    lines = list( open(filename, \"r\", encoding='utf8').readlines() )\n",
    "    lines = [ l.strip() for l in lines]\n",
    "\n",
    "    doc = []\n",
    "    tags = []\n",
    "    sent_w = []\n",
    "    sent_t = []\n",
    "    for l in lines:\n",
    "        if l == '':\n",
    "            doc.append(sent_w)\n",
    "            tags.append(sent_t)\n",
    "            sent_w = []\n",
    "            sent_t = []\n",
    "        else:\n",
    "            w, t = l.split('\\t')\n",
    "            if t != \"-NONE-\":\n",
    "                sent_w.append( w.lower() )\n",
    "                sent_t.append( t )\n",
    "    return doc, tags\n",
    "\n",
    "def load_trustpilots():\n",
    "    all_sents = []\n",
    "    all_tags = []\n",
    "    all_genders = []\n",
    "    all_ages = []\n",
    "    filenames = [\"en.O45-UKC1_WORST-F.data.TT.tagged.gold\",\n",
    "        \"en.O45-UKC1_WORST-M.data.TT.tagged.gold\",\n",
    "        \"en.O45-UKH2_SOSO-F.data.TT.tagged.gold\",\n",
    "        \"en.O45-UKH2_SOSO-M.data.TT.tagged.gold\",\n",
    "        \"en.O45-UKN0_BEST-F.data.TT.tagged.gold\",\n",
    "        \"en.O45-UKN0_BEST-M.data.TT.tagged.gold\",\n",
    "        \"en.U35-UKC1_WORST-F.data.TT.tagged.gold\",\n",
    "        \"en.U35-UKC1_WORST-M.data.TT.tagged.gold\",\n",
    "        \"en.U35-UKH2_SOSO-F.data.TT.tagged.gold\",\n",
    "        \"en.U35-UKH2_SOSO-M.data.TT.tagged.gold\",\n",
    "        \"en.U35-UKN0_BEST-F.data.TT.tagged.gold\",\n",
    "        \"en.U35-UKN0_BEST-M.data.TT.tagged.gold\"\n",
    "        ]\n",
    "    for i, filename in enumerate(filenames):\n",
    "        sents, tags = load_web_eng(dataset_path + filename)\n",
    "        if i < 6: \n",
    "            ages = np.array( [1] * len(sents) ) #over 45\n",
    "        else:\n",
    "            ages = np.array( [0] * len(sents) ) #under 35\n",
    "        if i % 2 == 0:\n",
    "            genders = np.array( [1] * len(sents) ) # F\n",
    "        else:\n",
    "            genders = np.array( [0] * len(sents) ) # M\n",
    "\n",
    "        all_sents.extend(sents)\n",
    "        all_tags.extend(tags)\n",
    "        all_genders.extend(genders)\n",
    "        all_ages.extend(ages)\n",
    "    return all_sents, all_tags, np.array(all_genders), np.array(all_ages)\n"
   ]
  },
  {
   "cell_type": "code",
   "execution_count": 3,
   "metadata": {},
   "outputs": [],
   "source": [
    "TP_sents, TP_tags, TP_gender, TP_age = load_trustpilots()"
   ]
  },
  {
   "cell_type": "code",
   "execution_count": 4,
   "metadata": {},
   "outputs": [],
   "source": [
    "total_array = []\n",
    "for i in range(len(TP_sents)):\n",
    "    total_array.append({'text':TP_sents[i], \n",
    "                        'tag_label':TP_tags[i], \n",
    "                        'age_label':int(TP_age[i]),\n",
    "                        'gender_label':int(TP_gender[i])\n",
    "                       })"
   ]
  },
  {
   "cell_type": "code",
   "execution_count": 5,
   "metadata": {},
   "outputs": [],
   "source": [
    "from sklearn.model_selection import train_test_split\n",
    "\n",
    "train_array, test_array = train_test_split(total_array, test_size=0.1, random_state=25042020)\n",
    "train_array, valid_array = train_test_split(train_array, test_size=0.1, random_state=25042020)"
   ]
  },
  {
   "cell_type": "code",
   "execution_count": 6,
   "metadata": {},
   "outputs": [
    {
     "name": "stdout",
     "output_type": "stream",
     "text": [
      "486 54 60\n"
     ]
    }
   ],
   "source": [
    "print(len(train_array),\n",
    "      len(valid_array),\n",
    "      len(test_array))"
   ]
  },
  {
   "cell_type": "code",
   "execution_count": 7,
   "metadata": {},
   "outputs": [],
   "source": [
    "import jsonlines\n",
    "\n",
    "def write2jsonl(jl_object, filePath):\n",
    "    with jsonlines.open(filePath, mode='w') as writer:\n",
    "        writer.write_all(jl_object)"
   ]
  },
  {
   "cell_type": "code",
   "execution_count": 8,
   "metadata": {},
   "outputs": [],
   "source": [
    "write2jsonl(train_array, train_filename)\n",
    "write2jsonl(test_array, test_filename)\n",
    "write2jsonl(valid_array, valid_filename)"
   ]
  },
  {
   "cell_type": "code",
   "execution_count": null,
   "metadata": {},
   "outputs": [],
   "source": []
  }
 ],
 "metadata": {
  "kernelspec": {
   "display_name": "Python 3.7.6 64-bit ('py37-Torch-Transformers': conda)",
   "language": "python",
   "name": "python37664bitpy37torchtransformerscondae93daae8d17e423a9d2b476995b931c9"
  },
  "language_info": {
   "codemirror_mode": {
    "name": "ipython",
    "version": 3
   },
   "file_extension": ".py",
   "mimetype": "text/x-python",
   "name": "python",
   "nbconvert_exporter": "python",
   "pygments_lexer": "ipython3",
   "version": "3.7.6"
  }
 },
 "nbformat": 4,
 "nbformat_minor": 4
}
